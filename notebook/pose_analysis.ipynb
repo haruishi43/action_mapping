{
 "cells": [
  {
   "cell_type": "code",
   "execution_count": 1,
   "metadata": {},
   "outputs": [
    {
     "name": "stdout",
     "output_type": "stream",
     "text": [
      "/home/haruyaishikawa/dev/RecordWithRS/python/notebook\n"
     ]
    }
   ],
   "source": [
    "import os\n",
    "import sys\n",
    "import ipympl\n",
    "\n",
    "print(os.getcwd())\n",
    "sys.path.insert(0, os.path.join(os.getcwd(), '../'))"
   ]
  },
  {
   "cell_type": "code",
   "execution_count": 2,
   "metadata": {},
   "outputs": [],
   "source": [
    "import numpy as np\n",
    "from datetime import datetime as dt\n",
    "from utils import DataManagement"
   ]
  },
  {
   "cell_type": "code",
   "execution_count": 32,
   "metadata": {},
   "outputs": [],
   "source": [
    "# setup which datetime to get\n",
    "dm = DataManagement()\n",
    "after = dt(2018, 9, 9, 13, 7, 0)\n",
    "before = dt(2018, 9, 9, 13, 8, 0)\n",
    "datetimes = dm.get_datetimes_in(after, before)\n",
    "\n",
    "assert len(datetimes) == 1\n",
    "datetime = datetimes[0]"
   ]
  },
  {
   "cell_type": "code",
   "execution_count": 33,
   "metadata": {},
   "outputs": [],
   "source": [
    "data_path = dm.get_save_directory(datetime)\n",
    "data_path = os.path.join(data_path, 'pose')"
   ]
  },
  {
   "cell_type": "code",
   "execution_count": 34,
   "metadata": {},
   "outputs": [],
   "source": [
    "files = dm.natural_sort(os.listdir(data_path))  # sorted files"
   ]
  },
  {
   "cell_type": "markdown",
   "metadata": {},
   "source": [
    "## Test for one pose"
   ]
  },
  {
   "cell_type": "code",
   "execution_count": 35,
   "metadata": {},
   "outputs": [],
   "source": [
    "fn = files[0]\n",
    "csv_path = os.path.join(data_path, fn)"
   ]
  },
  {
   "cell_type": "code",
   "execution_count": 36,
   "metadata": {},
   "outputs": [],
   "source": [
    "sys.path.insert(0, '../openpose')  # append path of openpose\n",
    "from entity import params, JointType"
   ]
  },
  {
   "cell_type": "code",
   "execution_count": 37,
   "metadata": {},
   "outputs": [
    {
     "name": "stdout",
     "output_type": "stream",
     "text": [
      "0 Nose\n",
      "1 Neck\n",
      "2 RightShoulder\n",
      "3 RightElbow\n",
      "4 RightHand\n",
      "5 LeftShoulder\n",
      "6 LeftElbow\n",
      "7 LeftHand\n",
      "8 RightWaist\n",
      "9 RightKnee\n",
      "10 RightFoot\n",
      "11 LeftWaist\n",
      "12 LeftKnee\n",
      "13 LeftFoot\n",
      "14 RightEye\n",
      "15 LeftEye\n",
      "16 RightEar\n",
      "17 LeftEar\n"
     ]
    }
   ],
   "source": [
    "# JointType\n",
    "for i, joint in enumerate(JointType):\n",
    "    print(i, joint.name)"
   ]
  },
  {
   "cell_type": "code",
   "execution_count": 38,
   "metadata": {},
   "outputs": [
    {
     "name": "stdout",
     "output_type": "stream",
     "text": [
      "7\n"
     ]
    }
   ],
   "source": [
    "print(JointType.LeftHand.value)"
   ]
  },
  {
   "cell_type": "code",
   "execution_count": 39,
   "metadata": {},
   "outputs": [],
   "source": [
    "pc = np.loadtxt(csv_path, delimiter=',')"
   ]
  },
  {
   "cell_type": "code",
   "execution_count": 40,
   "metadata": {},
   "outputs": [],
   "source": [
    "# Translation matrix\n",
    "P_matrix_filename = os.path.join('../static_data', 'T.csv')\n",
    "P = np.loadtxt(P_matrix_filename, delimiter=',')\n",
    "\n",
    "def convert2world(P, coord):\n",
    "    '''\n",
    "    Convert from Camera coordniate to World coordinate (according to P)\n",
    "    '''\n",
    "    _coord = np.concatenate([np.asarray(coord), [1.000]])\n",
    "    _P = np.array(P)\n",
    "    #FIXME: Remove this when P is fixed\n",
    "    rotate = np.array([[1,0,0,0], [0,-1,0,0],[0,0,-1,0],[0,0,0,1]])\n",
    "    n = rotate.dot(_coord)\n",
    "    return _P.dot(n)[:3]"
   ]
  },
  {
   "cell_type": "code",
   "execution_count": 41,
   "metadata": {},
   "outputs": [],
   "source": [
    "rw_pc = np.zeros((18, 3))\n",
    "for i, p in enumerate(pc):\n",
    "    if (p == [0,0,0]).all():\n",
    "        rw_pc[i] = np.asarray([np.nan, np.nan, np.nan])\n",
    "    else:\n",
    "        rw_pc[i] = convert2world(P, p)"
   ]
  },
  {
   "cell_type": "code",
   "execution_count": 42,
   "metadata": {},
   "outputs": [],
   "source": [
    "# print(pc)\n",
    "# print(rw_pc)"
   ]
  },
  {
   "cell_type": "code",
   "execution_count": 43,
   "metadata": {},
   "outputs": [],
   "source": [
    "roll_pc = np.rollaxis(rw_pc, 1)"
   ]
  },
  {
   "cell_type": "code",
   "execution_count": 44,
   "metadata": {},
   "outputs": [],
   "source": [
    "import matplotlib as mpl\n",
    "import matplotlib.pyplot as plt\n",
    "from mpl_toolkits.mplot3d import Axes3D\n",
    "import matplotlib.image as mpimg"
   ]
  },
  {
   "cell_type": "code",
   "execution_count": 45,
   "metadata": {},
   "outputs": [
    {
     "name": "stdout",
     "output_type": "stream",
     "text": [
      "/mnt/extHDD/raw_data/20180909_1307/rgb/0.png\n"
     ]
    }
   ],
   "source": [
    "rgb_path = dm.get_rgb_path(datetime)\n",
    "rgb_image_path = os.path.join(rgb_path, '0.png')\n",
    "print(rgb_image_path)\n",
    "img = mpimg.imread(rgb_image_path)"
   ]
  },
  {
   "cell_type": "code",
   "execution_count": 55,
   "metadata": {},
   "outputs": [
    {
     "data": {
      "application/vnd.jupyter.widget-view+json": {
       "model_id": "5d65d09482a7487d9b818dabce5b0b7a",
       "version_major": 2,
       "version_minor": 0
      },
      "text/plain": [
       "FigureCanvasNbAgg()"
      ]
     },
     "metadata": {},
     "output_type": "display_data"
    }
   ],
   "source": [
    "%matplotlib widget\n",
    "\n",
    "fig = plt.figure()\n",
    "ax1 = fig.add_subplot(221, projection='3d')\n",
    "ax1.scatter(roll_pc[0], roll_pc[1], roll_pc[2])\n",
    "\n",
    "\n",
    "ax2 = fig.add_subplot(222)\n",
    "ax2.imshow(img)\n",
    "\n",
    "plt.show()"
   ]
  },
  {
   "cell_type": "code",
   "execution_count": 47,
   "metadata": {},
   "outputs": [],
   "source": [
    "plt.savefig(\"compare.png\")"
   ]
  },
  {
   "cell_type": "markdown",
   "metadata": {},
   "source": [
    "### getting right hand location for all 1 minutes"
   ]
  },
  {
   "cell_type": "code",
   "execution_count": 48,
   "metadata": {},
   "outputs": [
    {
     "name": "stdout",
     "output_type": "stream",
     "text": [
      "file count:  720\n"
     ]
    }
   ],
   "source": [
    "del joint\n",
    "\n",
    "joint_val = JointType.Nose.value\n",
    "\n",
    "print(\"file count: \", len(files))\n",
    "joint = np.zeros((len(files), 3))\n",
    "for i, f in enumerate(files):\n",
    "    csv_path = os.path.join(data_path, f)\n",
    "    points = np.loadtxt(csv_path, delimiter=',')\n",
    "    point = points[joint_val]\n",
    "    if (point == [0,0,0]).all():\n",
    "        joint[i] = np.asarray([np.nan, np.nan, np.nan])\n",
    "    else:\n",
    "        joint[i] = convert2world(P, point)"
   ]
  },
  {
   "cell_type": "code",
   "execution_count": 49,
   "metadata": {},
   "outputs": [
    {
     "data": {
      "text/plain": [
       "(3, 720)"
      ]
     },
     "execution_count": 49,
     "metadata": {},
     "output_type": "execute_result"
    }
   ],
   "source": [
    "joint.shape\n",
    "roll_joint = np.rollaxis(joint, 1)\n",
    "roll_joint.shape"
   ]
  },
  {
   "cell_type": "code",
   "execution_count": 50,
   "metadata": {},
   "outputs": [
    {
     "data": {
      "application/vnd.jupyter.widget-view+json": {
       "model_id": "",
       "version_major": 2,
       "version_minor": 0
      },
      "text/plain": [
       "FigureCanvasNbAgg()"
      ]
     },
     "metadata": {},
     "output_type": "display_data"
    }
   ],
   "source": [
    "%matplotlib widget\n",
    "\n",
    "plt.subplot(2, 2, 1)\n",
    "plt.plot(roll_joint[0], roll_joint[1])\n",
    "plt.xlabel('x')\n",
    "plt.ylabel('y')\n",
    "plt.grid(True)\n",
    "plt.suptitle('Movement of object', fontsize=16)\n",
    "\n",
    "plt.subplot(2, 2, 2)\n",
    "plt.scatter(roll_joint[0], roll_joint[1])\n",
    "plt.xlabel(\"x\")\n",
    "plt.ylabel(\"y\")\n",
    "plt.grid(True)\n",
    "plt.show()"
   ]
  },
  {
   "cell_type": "code",
   "execution_count": 51,
   "metadata": {},
   "outputs": [],
   "source": [
    "xedges = [i for i in range(-2000, 2000, 50)]\n",
    "yedges = [i for i in range(-2000, 2000, 50)]\n",
    "zedges = [i for i in range(-1500, 1500, 50)]\n",
    "\n",
    "x = roll_joint[0][~np.isnan(roll_joint[0])]\n",
    "y = roll_joint[1][~np.isnan(roll_joint[1])]\n",
    "z = roll_joint[2][~np.isnan(roll_joint[2])]"
   ]
  },
  {
   "cell_type": "code",
   "execution_count": 52,
   "metadata": {},
   "outputs": [],
   "source": [
    "H, xedges, yedges = np.histogram2d(x, y, bins=(xedges, yedges))\n",
    "H = H.T  # let each row list bins with common y range"
   ]
  },
  {
   "cell_type": "code",
   "execution_count": 53,
   "metadata": {},
   "outputs": [
    {
     "data": {
      "application/vnd.jupyter.widget-view+json": {
       "model_id": "",
       "version_major": 2,
       "version_minor": 0
      },
      "text/plain": [
       "FigureCanvasNbAgg()"
      ]
     },
     "metadata": {},
     "output_type": "display_data"
    }
   ],
   "source": [
    "%matplotlib widget\n",
    "\n",
    "fig = plt.figure()\n",
    "\n",
    "# imshow:\n",
    "\n",
    "# ax = fig.add_subplot(131, title='imshow')\n",
    "# plt.imshow(H, interpolation='nearest', origin='low',\n",
    "#            extent=[xedges[0], xedges[-1], yedges[0], yedges[-1]])\n",
    "\n",
    "\n",
    "# pcolor mesh:\n",
    "\n",
    "ax = fig.add_subplot(111, title='pcolormesh',\n",
    "                     aspect='equal')\n",
    "X, Y = np.meshgrid(xedges, yedges)\n",
    "ax.pcolormesh(X, Y, H)\n",
    "\n",
    "# non uniform image:\n",
    "\n",
    "# ax = fig.add_subplot(111, title='NonUniformImage',\n",
    "#                      aspect='equal', xlim=xedges[[0, -1]], ylim=yedges[[0, -1]])\n",
    "# im = mpl.image.NonUniformImage(ax, interpolation='bilinear')\n",
    "# xcenters = (xedges[:-1] + xedges[1:]) / 2\n",
    "# ycenters = (yedges[:-1] + yedges[1:]) / 2\n",
    "# im.set_data(xcenters, ycenters, H)\n",
    "# ax.images.append(im)\n",
    "plt.show()"
   ]
  },
  {
   "cell_type": "code",
   "execution_count": 54,
   "metadata": {},
   "outputs": [],
   "source": [
    "plt.savefig('LeftShoulder_track.png')"
   ]
  },
  {
   "cell_type": "code",
   "execution_count": null,
   "metadata": {},
   "outputs": [],
   "source": []
  }
 ],
 "metadata": {
  "kernelspec": {
   "display_name": "Python 3",
   "language": "python",
   "name": "python3"
  },
  "language_info": {
   "codemirror_mode": {
    "name": "ipython",
    "version": 3
   },
   "file_extension": ".py",
   "mimetype": "text/x-python",
   "name": "python",
   "nbconvert_exporter": "python",
   "pygments_lexer": "ipython3",
   "version": "3.5.5"
  }
 },
 "nbformat": 4,
 "nbformat_minor": 2
}
