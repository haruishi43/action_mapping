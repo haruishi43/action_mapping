{
 "cells": [
  {
   "cell_type": "code",
   "execution_count": 1,
   "metadata": {},
   "outputs": [],
   "source": [
    "import os\n",
    "import sys\n",
    "import ipympl"
   ]
  },
  {
   "cell_type": "code",
   "execution_count": 2,
   "metadata": {},
   "outputs": [
    {
     "name": "stdout",
     "output_type": "stream",
     "text": [
      "/home/haruyaishikawa/dev/RecordWithRS/python/notebook\n"
     ]
    }
   ],
   "source": [
    "print(os.getcwd())\n",
    "sys.path.insert(0, os.path.join(os.getcwd(), '../'))"
   ]
  },
  {
   "cell_type": "code",
   "execution_count": 3,
   "metadata": {},
   "outputs": [],
   "source": [
    "import numpy as np\n",
    "from datetime import datetime as dt\n",
    "from utils import DataManagement"
   ]
  },
  {
   "cell_type": "code",
   "execution_count": 21,
   "metadata": {},
   "outputs": [],
   "source": [
    "# setup which datetime to get\n",
    "dm = DataManagement()\n",
    "after = dt(2018, 9, 9, 13, 7, 0)\n",
    "before = dt(2018, 9, 9, 13, 8, 0)\n",
    "datetimes = dm.get_datetimes_in(after, before)\n",
    "\n",
    "assert len(datetimes) == 1\n",
    "datetime = datetimes[0]"
   ]
  },
  {
   "cell_type": "code",
   "execution_count": 22,
   "metadata": {},
   "outputs": [
    {
     "name": "stdout",
     "output_type": "stream",
     "text": [
      "['book', 'chair', 'cup', 'dining table', 'keyboard', 'knife', 'laptop', 'person', 'potted plant', 'sink', 'sports ball']\n"
     ]
    }
   ],
   "source": [
    "data_path = dm.get_save_directory(datetime)\n",
    "data_path = os.path.join(data_path, 'objects')\n",
    "\n",
    "print(os.listdir(data_path))"
   ]
  },
  {
   "cell_type": "code",
   "execution_count": 55,
   "metadata": {},
   "outputs": [],
   "source": [
    "ob_name = 'sink'\n",
    "ob_path = os.path.join(data_path, ob_name)"
   ]
  },
  {
   "cell_type": "code",
   "execution_count": 56,
   "metadata": {},
   "outputs": [
    {
     "name": "stdout",
     "output_type": "stream",
     "text": [
      "716\n"
     ]
    }
   ],
   "source": [
    "files = os.listdir(ob_path)\n",
    "print(len(files))\n",
    "filename = files[0]\n",
    "csv_path = os.path.join(ob_path, filename)"
   ]
  },
  {
   "cell_type": "code",
   "execution_count": 57,
   "metadata": {},
   "outputs": [],
   "source": [
    "np_pc = np.loadtxt(csv_path, delimiter=',')"
   ]
  },
  {
   "cell_type": "code",
   "execution_count": 58,
   "metadata": {},
   "outputs": [
    {
     "name": "stdout",
     "output_type": "stream",
     "text": [
      "(19663, 3)\n"
     ]
    },
    {
     "data": {
      "text/plain": [
       "array([-1573.59131633,  -592.57718875,  3042.5855668 ])"
      ]
     },
     "execution_count": 58,
     "metadata": {},
     "output_type": "execute_result"
    }
   ],
   "source": [
    "print(np_pc.shape)\n",
    "np_pc.mean(0)"
   ]
  },
  {
   "cell_type": "code",
   "execution_count": 59,
   "metadata": {},
   "outputs": [
    {
     "name": "stdout",
     "output_type": "stream",
     "text": [
      "19663\n",
      "19663\n"
     ]
    }
   ],
   "source": [
    "pc = np.rollaxis(np_pc, 1)\n",
    "print(len(pc[0]))\n",
    "print(len(pc[1]))"
   ]
  },
  {
   "cell_type": "code",
   "execution_count": 60,
   "metadata": {},
   "outputs": [],
   "source": [
    "import matplotlib as mpl\n",
    "import matplotlib.pyplot as plt\n",
    "from mpl_toolkits.mplot3d import Axes3D"
   ]
  },
  {
   "cell_type": "code",
   "execution_count": 61,
   "metadata": {},
   "outputs": [
    {
     "data": {
      "application/vnd.jupyter.widget-view+json": {
       "model_id": "",
       "version_major": 2,
       "version_minor": 0
      },
      "text/plain": [
       "FigureCanvasNbAgg()"
      ]
     },
     "metadata": {},
     "output_type": "display_data"
    }
   ],
   "source": [
    "%matplotlib widget\n",
    "\n",
    "fig = plt.figure()\n",
    "ax = fig.add_subplot(111, projection='3d')\n",
    "ax.scatter(pc[0], pc[1], pc[2])\n",
    "\n",
    "plt.show()"
   ]
  },
  {
   "cell_type": "code",
   "execution_count": 62,
   "metadata": {},
   "outputs": [
    {
     "data": {
      "application/vnd.jupyter.widget-view+json": {
       "model_id": "",
       "version_major": 2,
       "version_minor": 0
      },
      "text/plain": [
       "FigureCanvasNbAgg()"
      ]
     },
     "metadata": {},
     "output_type": "display_data"
    }
   ],
   "source": [
    "%matplotlib widget\n",
    "\n",
    "plt.scatter(pc[0], pc[1])\n",
    "plt.xlabel(\"x\")\n",
    "plt.ylabel(\"y\")\n",
    "plt.show()"
   ]
  },
  {
   "cell_type": "code",
   "execution_count": 63,
   "metadata": {},
   "outputs": [],
   "source": [
    "# Translation matrix\n",
    "P_matrix_filename = os.path.join('../static_data', 'T.csv')\n",
    "P = np.loadtxt(P_matrix_filename, delimiter=',')\n",
    "\n",
    "def convert2world(P, coord):\n",
    "    '''\n",
    "    Convert from Camera coordniate to World coordinate (according to P)\n",
    "    '''\n",
    "    _coord = np.concatenate([np.asarray(coord), [1.000]])\n",
    "    _P = np.array(P)\n",
    "    #FIXME: Remove this when P is fixed\n",
    "    rotate = np.array([[1,0,0,0], [0,-1,0,0],[0,0,-1,0],[0,0,0,1]])\n",
    "    n = rotate.dot(_coord)\n",
    "    return _P.dot(n)[:3]"
   ]
  },
  {
   "cell_type": "code",
   "execution_count": 64,
   "metadata": {},
   "outputs": [],
   "source": [
    "ordered_files = dm.natural_sort(files)\n",
    "mean_of_points = np.zeros((len(ordered_files), 3))\n",
    "for i, fn in enumerate(ordered_files):\n",
    "    csv_path = os.path.join(ob_path, fn)\n",
    "    points = np.loadtxt(csv_path, delimiter=',')\n",
    "    mean = points.mean(0)\n",
    "    real_world = convert2world(P, mean)\n",
    "    mean_of_points[i] = real_world"
   ]
  },
  {
   "cell_type": "code",
   "execution_count": 65,
   "metadata": {},
   "outputs": [
    {
     "data": {
      "text/plain": [
       "(3, 716)"
      ]
     },
     "execution_count": 65,
     "metadata": {},
     "output_type": "execute_result"
    }
   ],
   "source": [
    "mp = np.asarray(mean_of_points)\n",
    "mp = np.rollaxis(mp, 1)\n",
    "mp.shape"
   ]
  },
  {
   "cell_type": "code",
   "execution_count": 71,
   "metadata": {},
   "outputs": [
    {
     "data": {
      "application/vnd.jupyter.widget-view+json": {
       "model_id": "55ffe8d0de6148ca9ccb1ae086e26df0",
       "version_major": 2,
       "version_minor": 0
      },
      "text/plain": [
       "FigureCanvasNbAgg()"
      ]
     },
     "metadata": {},
     "output_type": "display_data"
    }
   ],
   "source": [
    "%matplotlib widget\n",
    "\n",
    "plt.subplot(2, 2, 1)\n",
    "plt.plot(mp[0], mp[1])\n",
    "plt.xlabel('x')\n",
    "plt.ylabel('y')\n",
    "plt.grid(True)\n",
    "plt.suptitle('Movement of object', fontsize=16)\n",
    "\n",
    "plt.subplot(2, 2, 2)\n",
    "plt.scatter(mp[0], mp[1])\n",
    "plt.xlabel(\"x\")\n",
    "plt.ylabel(\"y\")\n",
    "plt.grid(True)\n",
    "plt.show()"
   ]
  },
  {
   "cell_type": "code",
   "execution_count": 67,
   "metadata": {},
   "outputs": [],
   "source": [
    "xedges = [i for i in range(-2000, 2000, 50)]\n",
    "yedges = [i for i in range(-2000, 2000, 50)]\n",
    "\n",
    "x = mp[0][~np.isnan(mp[0])]\n",
    "y = mp[1][~np.isnan(mp[1])]\n",
    "z = mp[2][~np.isnan(mp[2])]"
   ]
  },
  {
   "cell_type": "code",
   "execution_count": 68,
   "metadata": {},
   "outputs": [],
   "source": [
    "H, xedges, yedges = np.histogram2d(x, y, bins=(xedges, yedges))\n",
    "H = H.T"
   ]
  },
  {
   "cell_type": "code",
   "execution_count": 69,
   "metadata": {},
   "outputs": [
    {
     "data": {
      "application/vnd.jupyter.widget-view+json": {
       "model_id": "",
       "version_major": 2,
       "version_minor": 0
      },
      "text/plain": [
       "FigureCanvasNbAgg()"
      ]
     },
     "metadata": {},
     "output_type": "display_data"
    }
   ],
   "source": [
    "%matplotlib widget\n",
    "\n",
    "fig = plt.figure()\n",
    "\n",
    "# imshow:\n",
    "\n",
    "# ax = fig.add_subplot(131, title='imshow: square bins')\n",
    "# plt.imshow(H, interpolation='nearest', origin='low',\n",
    "#            extent=[xedges[0], xedges[-1], yedges[0], yedges[-1]])\n",
    "\n",
    "\n",
    "# pcolor mesh:\n",
    "\n",
    "ax = fig.add_subplot(111, title='pcolormesh: actual edges',\n",
    "                     aspect='equal')\n",
    "X, Y = np.meshgrid(xedges, yedges)\n",
    "ax.pcolormesh(X, Y, H)\n",
    "\n",
    "# non uniform image:\n",
    "\n",
    "# ax = fig.add_subplot(111, title='NonUniformImage: interpolated',\n",
    "#                      aspect='equal', xlim=xedges[[0, -1]], ylim=yedges[[0, -1]])\n",
    "# im = mpl.image.NonUniformImage(ax, interpolation='bilinear')\n",
    "# xcenters = (xedges[:-1] + xedges[1:]) / 2\n",
    "# ycenters = (yedges[:-1] + yedges[1:]) / 2\n",
    "# im.set_data(xcenters, ycenters, H)\n",
    "# ax.images.append(im)\n",
    "plt.show()"
   ]
  },
  {
   "cell_type": "code",
   "execution_count": 70,
   "metadata": {},
   "outputs": [],
   "source": [
    "plt.savefig('person_hist.png')"
   ]
  },
  {
   "cell_type": "code",
   "execution_count": null,
   "metadata": {},
   "outputs": [],
   "source": []
  },
  {
   "cell_type": "code",
   "execution_count": null,
   "metadata": {},
   "outputs": [],
   "source": []
  }
 ],
 "metadata": {
  "kernelspec": {
   "display_name": "Python 3",
   "language": "python",
   "name": "python3"
  },
  "language_info": {
   "codemirror_mode": {
    "name": "ipython",
    "version": 3
   },
   "file_extension": ".py",
   "mimetype": "text/x-python",
   "name": "python",
   "nbconvert_exporter": "python",
   "pygments_lexer": "ipython3",
   "version": "3.6.5"
  }
 },
 "nbformat": 4,
 "nbformat_minor": 2
}
