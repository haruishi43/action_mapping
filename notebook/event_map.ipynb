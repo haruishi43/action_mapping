{
 "cells": [
  {
   "cell_type": "code",
   "execution_count": 1,
   "metadata": {},
   "outputs": [],
   "source": [
    "import sys\n",
    "import os"
   ]
  },
  {
   "cell_type": "code",
   "execution_count": 2,
   "metadata": {},
   "outputs": [],
   "source": [
    "from importer import *\n",
    "from utils import *"
   ]
  },
  {
   "cell_type": "code",
   "execution_count": 3,
   "metadata": {},
   "outputs": [
    {
     "data": {
      "text/plain": [
       "'/media/haruyaishikawa/new_disk/save_clip_data/mask_pose'"
      ]
     },
     "execution_count": 3,
     "metadata": {},
     "output_type": "execute_result"
    }
   ],
   "source": [
    "CLIPS_ROOT = raw_clip_data\n",
    "SAVE_ROOT = os.path.join(save_clip_data, 'mask_pose')\n",
    "SAVE_ROOT"
   ]
  },
  {
   "cell_type": "markdown",
   "metadata": {},
   "source": [
    "### Check events"
   ]
  },
  {
   "cell_type": "code",
   "execution_count": 4,
   "metadata": {},
   "outputs": [
    {
     "data": {
      "text/plain": [
       "['meal time',\n",
       " 'meeting',\n",
       " 'coffee break',\n",
       " 'nap',\n",
       " 'cooking',\n",
       " 'working',\n",
       " 'tending to plants']"
      ]
     },
     "execution_count": 4,
     "metadata": {},
     "output_type": "execute_result"
    }
   ],
   "source": [
    "events = [event_names[i] for i in event_ids]\n",
    "events"
   ]
  },
  {
   "cell_type": "markdown",
   "metadata": {},
   "source": [
    "### Activate clip management\n",
    "\n",
    "Testing for 'coffee break':"
   ]
  },
  {
   "cell_type": "code",
   "execution_count": 5,
   "metadata": {},
   "outputs": [],
   "source": [
    "coffee = events[2]\n",
    "clip_id = 0"
   ]
  },
  {
   "cell_type": "markdown",
   "metadata": {},
   "source": [
    "#### Show images"
   ]
  },
  {
   "cell_type": "code",
   "execution_count": 6,
   "metadata": {},
   "outputs": [
    {
     "name": "stdout",
     "output_type": "stream",
     "text": [
      "Using Event coffee break\n",
      "Available clips\n",
      "['0', '1', '2', '3', '4', '5', '6', '7', '8', '9', '10', '11', '12', '13', '14']\n",
      "Using Event coffee break\n",
      "Available clips\n",
      "['0', '1', '2', '3', '4', '5', '6', '7', '8', '9', '10', '11', '12', '13', '14']\n"
     ]
    }
   ],
   "source": [
    "dm = ShortClipManagement(coffee, CLIPS_ROOT, SAVE_ROOT)\n",
    "clips = dm.change_event(coffee)\n",
    "\n",
    "clip = clips[clip_id]\n",
    "rgb_images = dm.get_sorted_rgb_images(clip)"
   ]
  },
  {
   "cell_type": "code",
   "execution_count": 7,
   "metadata": {},
   "outputs": [],
   "source": [
    "%matplotlib widget\n",
    "\n",
    "import matplotlib.pyplot as plt\n",
    "import matplotlib.image as mpimg"
   ]
  },
  {
   "cell_type": "code",
   "execution_count": 8,
   "metadata": {},
   "outputs": [
    {
     "data": {
      "application/vnd.jupyter.widget-view+json": {
       "model_id": "",
       "version_major": 2,
       "version_minor": 0
      },
      "text/plain": [
       "FigureCanvasNbAgg()"
      ]
     },
     "metadata": {},
     "output_type": "display_data"
    },
    {
     "data": {
      "text/plain": [
       "<matplotlib.image.AxesImage at 0x7f9f2fe78ac8>"
      ]
     },
     "execution_count": 8,
     "metadata": {},
     "output_type": "execute_result"
    }
   ],
   "source": [
    "image_num = 100\n",
    "\n",
    "image_path = os.path.join(dm.get_rgb_path(clip), rgb_images[image_num])\n",
    "\n",
    "image = mpimg.imread(image_path)\n",
    "plt.imshow(image)"
   ]
  },
  {
   "cell_type": "code",
   "execution_count": 9,
   "metadata": {},
   "outputs": [
    {
     "name": "stdout",
     "output_type": "stream",
     "text": [
      "Using Event coffee break\n",
      "Available clips\n",
      "['0', '1', '2', '3', '4', '5', '6', '7', '8', '9', '10', '11', '12', '13', '14']\n"
     ]
    }
   ],
   "source": [
    "manager = ClipsSavedDataManagement(event=coffee, root_path=SAVE_ROOT)"
   ]
  },
  {
   "cell_type": "code",
   "execution_count": 10,
   "metadata": {},
   "outputs": [
    {
     "name": "stdout",
     "output_type": "stream",
     "text": [
      "Using Event coffee break\n",
      "Available clips\n",
      "['0', '1', '2', '3', '4', '5', '6', '7', '8', '9', '10', '11', '12', '13', '14']\n"
     ]
    }
   ],
   "source": [
    "clips = manager.change_event(coffee)"
   ]
  },
  {
   "cell_type": "code",
   "execution_count": 11,
   "metadata": {},
   "outputs": [],
   "source": [
    "clip = clips[clip_id]  # choose first clip"
   ]
  },
  {
   "cell_type": "markdown",
   "metadata": {},
   "source": [
    "### Analysis"
   ]
  },
  {
   "cell_type": "code",
   "execution_count": 12,
   "metadata": {},
   "outputs": [
    {
     "name": "stdout",
     "output_type": "stream",
     "text": [
      "701\n"
     ]
    }
   ],
   "source": [
    "all_files = manager.get_sorted_npz_files(clip)\n",
    "# files\n",
    "print(len(all_files))"
   ]
  },
  {
   "cell_type": "code",
   "execution_count": 13,
   "metadata": {},
   "outputs": [
    {
     "name": "stdout",
     "output_type": "stream",
     "text": [
      "segemnts:  70\n"
     ]
    }
   ],
   "source": [
    "# starting point of clip\n",
    "init = 100\n",
    "\n",
    "length = len(all_files)\n",
    "splits = 10\n",
    "seg = int(length//splits)\n",
    "print('segemnts: ', seg)\n",
    "\n",
    "files = all_files[init:init+seg]"
   ]
  },
  {
   "cell_type": "markdown",
   "metadata": {},
   "source": [
    "### Pose"
   ]
  },
  {
   "cell_type": "code",
   "execution_count": 14,
   "metadata": {},
   "outputs": [],
   "source": [
    "from openpose import params, JointType"
   ]
  },
  {
   "cell_type": "code",
   "execution_count": 15,
   "metadata": {},
   "outputs": [
    {
     "name": "stdout",
     "output_type": "stream",
     "text": [
      "JointType.Nose\n"
     ]
    }
   ],
   "source": [
    "joint_val = JointType.Nose.value\n",
    "print(JointType(joint_val))"
   ]
  },
  {
   "cell_type": "code",
   "execution_count": 16,
   "metadata": {},
   "outputs": [],
   "source": [
    "joint = np.zeros((len(files), 3))\n",
    "for i, f in enumerate(files):\n",
    "    filename = os.path.join(manager.get_clip_directory(clip), f)\n",
    "    poses, _ = poses_masks_from_npz(filename)\n",
    "\n",
    "    if not(poses is None):\n",
    "        pose_ids = list(poses.keys())\n",
    "        points = poses[pose_ids[0]]\n",
    "\n",
    "        point = points[joint_val]\n",
    "        if (point == [0,0,0]).all():\n",
    "            joint[i] = np.asarray([np.nan, np.nan, np.nan])\n",
    "        else:\n",
    "            joint[i] = point\n",
    "\n",
    "roll_joint = np.rollaxis(joint, 1)"
   ]
  },
  {
   "cell_type": "code",
   "execution_count": 17,
   "metadata": {},
   "outputs": [],
   "source": [
    "import matplotlib as mpl\n",
    "import matplotlib.pyplot as plt\n",
    "from mpl_toolkits.mplot3d import Axes3D\n",
    "\n",
    "from scipy.ndimage.filters import gaussian_filter"
   ]
  },
  {
   "cell_type": "code",
   "execution_count": 18,
   "metadata": {},
   "outputs": [],
   "source": [
    "# in milimeters\n",
    "y_min = -2000\n",
    "y_max = 2000\n",
    "x_min = -2000\n",
    "x_max = 2000\n",
    "bin_x = 100\n",
    "bin_y = 100\n",
    "\n",
    "sigma = 0.5\n",
    "\n",
    "colormap = 'plasma'\n",
    "\n",
    "def show_location_map(points, name):\n",
    "    xedges = [i for i in range(x_min, x_max, bin_x)]\n",
    "    yedges = [i for i in range(y_min, y_max, bin_y)]\n",
    "\n",
    "    x = points[0][~np.isnan(points[0])]\n",
    "    y = points[1][~np.isnan(points[1])]\n",
    "    # z = points[2][~np.isnan(points[2])]\n",
    "\n",
    "    H, xedges, yedges = np.histogram2d(x, y, bins=(xedges, yedges))\n",
    "    H = H.T\n",
    "    \n",
    "    # normalize\n",
    "    H = H/H.max()\n",
    "    \n",
    "    # gaussian filter?\n",
    "    H = gaussian_filter(H, sigma=sigma)\n",
    "    print(H.max())\n",
    "    \n",
    "    # color map?\n",
    "    cmap = mpl.colors.ListedColormap(['grey','red'])\n",
    "\n",
    "    fig = plt.figure()\n",
    "\n",
    "    ax = fig.add_subplot(111, title=name,\n",
    "                        aspect='equal')\n",
    "    X, Y = np.meshgrid(xedges, yedges)\n",
    "    ax.pcolormesh(X, Y, H, cmap=colormap, vmin=0.0, vmax=1.0)\n",
    "    # ax.pcolor(X, Y, H)\n",
    "\n",
    "    plt.show()\n"
   ]
  },
  {
   "cell_type": "code",
   "execution_count": 19,
   "metadata": {},
   "outputs": [
    {
     "name": "stdout",
     "output_type": "stream",
     "text": [
      "0.6639016538678132\n"
     ]
    },
    {
     "data": {
      "application/vnd.jupyter.widget-view+json": {
       "model_id": "",
       "version_major": 2,
       "version_minor": 0
      },
      "text/plain": [
       "FigureCanvasNbAgg()"
      ]
     },
     "metadata": {},
     "output_type": "display_data"
    }
   ],
   "source": [
    "show_location_map(roll_joint, JointType(joint_val))"
   ]
  },
  {
   "cell_type": "markdown",
   "metadata": {},
   "source": [
    "#### Object"
   ]
  },
  {
   "cell_type": "code",
   "execution_count": 20,
   "metadata": {},
   "outputs": [],
   "source": [
    "ob_name = 'chair'"
   ]
  },
  {
   "cell_type": "markdown",
   "metadata": {},
   "source": [
    "calculate mean per each image"
   ]
  },
  {
   "cell_type": "code",
   "execution_count": 21,
   "metadata": {},
   "outputs": [],
   "source": [
    "mean_of_points = []\n",
    "for i, f in enumerate(files):\n",
    "    filename = os.path.join(manager.get_clip_directory(clip), f)\n",
    "    _, masks = poses_masks_from_npz(filename)\n",
    "\n",
    "    if masks is None:\n",
    "        continue\n",
    "\n",
    "    item_number = [i for i, j in object_dict.items() if j == ob_name]\n",
    "\n",
    "    for mask in masks:\n",
    "\n",
    "        # TODO:\n",
    "        # get string name\n",
    "        # check if the first digit is some class\n",
    "        # if so, append the mean\n",
    "        id = int(mask.split('_')[0])\n",
    "\n",
    "        if id in item_number:\n",
    "            mean = masks[mask].mean(0)\n",
    "            mean_of_points.append(mean)\n",
    "\n",
    "mp = np.asarray(mean_of_points)\n",
    "if mp.any() == False:\n",
    "    print(\"no such object \", ob_name, \" detected\")\n",
    "\n",
    "mp = np.rollaxis(mp, 1)"
   ]
  },
  {
   "cell_type": "code",
   "execution_count": 22,
   "metadata": {},
   "outputs": [
    {
     "name": "stdout",
     "output_type": "stream",
     "text": [
      "0.6199070004603685\n"
     ]
    },
    {
     "data": {
      "application/vnd.jupyter.widget-view+json": {
       "model_id": "",
       "version_major": 2,
       "version_minor": 0
      },
      "text/plain": [
       "FigureCanvasNbAgg()"
      ]
     },
     "metadata": {},
     "output_type": "display_data"
    }
   ],
   "source": [
    "show_location_map(mp, ob_name)"
   ]
  },
  {
   "cell_type": "markdown",
   "metadata": {},
   "source": [
    "plot all points"
   ]
  },
  {
   "cell_type": "code",
   "execution_count": 23,
   "metadata": {},
   "outputs": [
    {
     "name": "stdout",
     "output_type": "stream",
     "text": [
      "(129835, 3)\n"
     ]
    }
   ],
   "source": [
    "all_points = None\n",
    "\n",
    "for i, f in enumerate(files):\n",
    "    filename = os.path.join(manager.get_clip_directory(clip), f)\n",
    "    _, masks = poses_masks_from_npz(filename)\n",
    "    \n",
    "    if masks is None:\n",
    "        continue\n",
    "\n",
    "    item_index = coco_label_names.index(ob_name)\n",
    "    \n",
    "    for mask in masks:\n",
    "        # get string name\n",
    "        # check if the first digit is some class\n",
    "        # if so, append the mean\n",
    "        id = int(mask.split('_')[0])\n",
    "\n",
    "        if id == item_index:\n",
    "            if all_points is None:\n",
    "                all_points = masks[mask]\n",
    "            else:\n",
    "                all_points = np.concatenate((all_points, masks[mask]), axis=0)\n",
    "\n",
    "if all_points is None:\n",
    "    print(\"no such object \", ob_name, \" detected\")\n",
    "\n",
    "\n",
    "print(all_points.shape)\n",
    "all_points = np.rollaxis(all_points, 1)"
   ]
  },
  {
   "cell_type": "code",
   "execution_count": 24,
   "metadata": {},
   "outputs": [
    {
     "name": "stdout",
     "output_type": "stream",
     "text": [
      "0.7947450043435796\n"
     ]
    },
    {
     "data": {
      "application/vnd.jupyter.widget-view+json": {
       "model_id": "",
       "version_major": 2,
       "version_minor": 0
      },
      "text/plain": [
       "FigureCanvasNbAgg()"
      ]
     },
     "metadata": {},
     "output_type": "display_data"
    }
   ],
   "source": [
    "show_location_map(all_points, ob_name)"
   ]
  },
  {
   "cell_type": "markdown",
   "metadata": {},
   "source": [
    "### save as image?\n",
    "\n",
    "\n"
   ]
  },
  {
   "cell_type": "code",
   "execution_count": 25,
   "metadata": {},
   "outputs": [],
   "source": [
    "from PIL import Image"
   ]
  },
  {
   "cell_type": "code",
   "execution_count": 26,
   "metadata": {},
   "outputs": [],
   "source": [
    "def save_location_map(points, name):\n",
    "    xedges = [i for i in range(x_min, x_max, bin_x)]\n",
    "    yedges = [i for i in range(y_min, y_max, bin_y)]\n",
    "\n",
    "    x = points[0][~np.isnan(points[0])]\n",
    "    y = points[1][~np.isnan(points[1])]\n",
    "    # z = points[2][~np.isnan(points[2])]\n",
    "\n",
    "    H, xedges, yedges = np.histogram2d(x, y, bins=(xedges, yedges))\n",
    "    H = H.T\n",
    "    \n",
    "    H = H/H.max()\n",
    "    H = gaussian_filter(H, sigma=sigma)\n",
    "    \n",
    "    H_pix = (H * 255.9).astype(np.uint8)\n",
    "    \n",
    "    # y-axis becomes lowest to highest\n",
    "    H_flipped = np.flipud(H_pix)\n",
    "    \n",
    "    img = Image.fromarray(H_flipped)\n",
    "    img.save(f'{name}.png')"
   ]
  },
  {
   "cell_type": "code",
   "execution_count": 27,
   "metadata": {},
   "outputs": [],
   "source": [
    "save_location_map(all_points, ob_name)"
   ]
  },
  {
   "cell_type": "code",
   "execution_count": 28,
   "metadata": {},
   "outputs": [
    {
     "data": {
      "text/plain": [
       "<matplotlib.image.AxesImage at 0x7f9f44010a90>"
      ]
     },
     "execution_count": 28,
     "metadata": {},
     "output_type": "execute_result"
    }
   ],
   "source": [
    "image = mpimg.imread(f'{ob_name}.png')\n",
    "plt.imshow(image)"
   ]
  },
  {
   "cell_type": "markdown",
   "metadata": {},
   "source": [
    "### Other plots"
   ]
  },
  {
   "cell_type": "code",
   "execution_count": 29,
   "metadata": {},
   "outputs": [],
   "source": [
    "%matplotlib widget"
   ]
  },
  {
   "cell_type": "code",
   "execution_count": 30,
   "metadata": {},
   "outputs": [],
   "source": [
    "def show_3d_grid(points, name):\n",
    "    xedges = [i for i in range(x_min, x_max, bin_x)]\n",
    "    yedges = [i for i in range(y_min, y_max, bin_y)]\n",
    "\n",
    "    x = points[0][~np.isnan(points[0])]\n",
    "    y = points[1][~np.isnan(points[1])]\n",
    "    # z = points[2][~np.isnan(points[2])]\n",
    "\n",
    "    H, xedges, yedges = np.histogram2d(x, y, bins=(xedges, yedges))\n",
    "    H = H.T\n",
    "    \n",
    "    # normalize\n",
    "    H = H/H.max()\n",
    "    \n",
    "    # gaussian filter?\n",
    "    H = gaussian_filter(H, sigma=sigma)\n",
    "    print(H.max())\n",
    "    \n",
    "\n",
    "    fig = plt.figure()\n",
    "    \n",
    "    ax = fig.gca(projection='3d', title=name)\n",
    "    \n",
    "    X, Y = np.meshgrid(xedges[:-1]+xedges[1:], yedges[:-1]+yedges[1:]) -(xedges[1]-xedges[0])\n",
    "    \n",
    "    xpos = X.flatten()*1./2\n",
    "    ypos = Y.flatten()*1./2\n",
    "    zpos = np.zeros_like(xpos)\n",
    "\n",
    "    \n",
    "    print(xedges[1])\n",
    "    print(xedges[0])\n",
    "    dx = xedges[1] - xedges[0]\n",
    "    dy = yedges[1] - yedges[0]\n",
    "    dz = H.flatten()\n",
    "\n",
    "    cmap = mpl.cm.get_cmap('jet') # Get desired colormap - you can change this!\n",
    "    max_height = np.max(dz)   # get range of colorbars so we can normalize\n",
    "    min_height = np.min(dz)\n",
    "    # scale each z to [0,1], and get their rgb values\n",
    "    rgba = [cmap((k-min_height)/max_height) for k in dz] \n",
    "    \n",
    "    print(xpos.shape)\n",
    "    print(ypos.shape)\n",
    "    print(zpos.shape)\n",
    "    \n",
    "    print(dx)\n",
    "    print(dy)\n",
    "    print(dz)\n",
    "    \n",
    "    ax.bar3d(xpos, ypos, zpos, dx, dy, dz, color=rgba, zsort='average')\n",
    "    \n",
    "    plt.show()"
   ]
  },
  {
   "cell_type": "code",
   "execution_count": 31,
   "metadata": {},
   "outputs": [
    {
     "name": "stdout",
     "output_type": "stream",
     "text": [
      "0.7947450043435796\n"
     ]
    },
    {
     "data": {
      "application/vnd.jupyter.widget-view+json": {
       "model_id": "4444dcdb8d9a4a62bf204f94559e9c29",
       "version_major": 2,
       "version_minor": 0
      },
      "text/plain": [
       "FigureCanvasNbAgg()"
      ]
     },
     "metadata": {},
     "output_type": "display_data"
    },
    {
     "name": "stdout",
     "output_type": "stream",
     "text": [
      "-1900\n",
      "-2000\n",
      "(1521,)\n",
      "(1521,)\n",
      "(1521,)\n",
      "100\n",
      "100\n",
      "[0. 0. 0. ... 0. 0. 0.]\n"
     ]
    }
   ],
   "source": [
    "show_3d_grid(all_points, ob_name)"
   ]
  },
  {
   "cell_type": "code",
   "execution_count": null,
   "metadata": {},
   "outputs": [],
   "source": []
  }
 ],
 "metadata": {
  "kernelspec": {
   "display_name": "Python 3",
   "language": "python",
   "name": "python3"
  },
  "language_info": {
   "codemirror_mode": {
    "name": "ipython",
    "version": 3
   },
   "file_extension": ".py",
   "mimetype": "text/x-python",
   "name": "python",
   "nbconvert_exporter": "python",
   "pygments_lexer": "ipython3",
   "version": "3.6.5"
  }
 },
 "nbformat": 4,
 "nbformat_minor": 2
}
