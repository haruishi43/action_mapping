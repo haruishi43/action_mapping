{
 "cells": [
  {
   "cell_type": "code",
   "execution_count": 1,
   "metadata": {},
   "outputs": [],
   "source": [
    "import sys\n",
    "import os"
   ]
  },
  {
   "cell_type": "code",
   "execution_count": 2,
   "metadata": {},
   "outputs": [],
   "source": [
    "from importer import *\n",
    "from utils import *"
   ]
  },
  {
   "cell_type": "code",
   "execution_count": 3,
   "metadata": {},
   "outputs": [],
   "source": [
    "# for plots\n",
    "\n",
    "import matplotlib as mpl\n",
    "import matplotlib.pyplot as plt\n",
    "from mpl_toolkits.mplot3d import Axes3D"
   ]
  },
  {
   "cell_type": "code",
   "execution_count": 4,
   "metadata": {},
   "outputs": [],
   "source": [
    "CLIPS_ROOT = raw_clip_data\n",
    "SAVE_ROOT = os.path.join(save_clip_data, 'mask_pose')"
   ]
  },
  {
   "cell_type": "code",
   "execution_count": 5,
   "metadata": {},
   "outputs": [],
   "source": [
    "from eventmap import *\n",
    "\n",
    "mappingtool = MappingTool()"
   ]
  },
  {
   "cell_type": "markdown",
   "metadata": {},
   "source": [
    "Show all events:"
   ]
  },
  {
   "cell_type": "code",
   "execution_count": 6,
   "metadata": {},
   "outputs": [
    {
     "data": {
      "text/plain": [
       "['meal time',\n",
       " 'meeting',\n",
       " 'coffee break',\n",
       " 'nap',\n",
       " 'cooking',\n",
       " 'working',\n",
       " 'tending to plants']"
      ]
     },
     "execution_count": 6,
     "metadata": {},
     "output_type": "execute_result"
    }
   ],
   "source": [
    "events = [event_names[i] for i in event_ids]\n",
    "events"
   ]
  },
  {
   "cell_type": "markdown",
   "metadata": {},
   "source": [
    "## Mark"
   ]
  },
  {
   "cell_type": "markdown",
   "metadata": {},
   "source": [
    "select an event"
   ]
  },
  {
   "cell_type": "code",
   "execution_count": 33,
   "metadata": {},
   "outputs": [],
   "source": [
    "event = events[6]"
   ]
  },
  {
   "cell_type": "markdown",
   "metadata": {},
   "source": [
    "Initialize clip management"
   ]
  },
  {
   "cell_type": "code",
   "execution_count": 34,
   "metadata": {},
   "outputs": [
    {
     "name": "stdout",
     "output_type": "stream",
     "text": [
      "Using Event tending to plants\n",
      "Available clips\n",
      "['0', '1', '2', '3', '4', '5', '6', '7']\n",
      "Using Event tending to plants\n",
      "Available clips\n",
      "['0', '1', '2', '3', '4', '5', '6', '7']\n"
     ]
    }
   ],
   "source": [
    "# file management\n",
    "manager = ClipsSavedDataManagement(event=event, root_path=SAVE_ROOT)\n",
    "\n",
    "# all of the clips\n",
    "clips = manager.change_event(event)"
   ]
  },
  {
   "cell_type": "markdown",
   "metadata": {},
   "source": [
    "for each clip, save an image of the pose and event maps"
   ]
  },
  {
   "cell_type": "code",
   "execution_count": 35,
   "metadata": {},
   "outputs": [
    {
     "data": {
      "text/plain": [
       "'/home/haruyaishikawa/dev/action_mapping/notebook/images/tending to plants'"
      ]
     },
     "execution_count": 35,
     "metadata": {},
     "output_type": "execute_result"
    }
   ],
   "source": [
    "save_directory = os.path.join(os.getcwd(), 'images', f'{event}')\n",
    "save_directory"
   ]
  },
  {
   "cell_type": "code",
   "execution_count": 10,
   "metadata": {},
   "outputs": [
    {
     "ename": "FileExistsError",
     "evalue": "[Errno 17] File exists: '/home/haruyaishikawa/dev/action_mapping/notebook/images/meal time'",
     "output_type": "error",
     "traceback": [
      "\u001b[0;31m---------------------------------------------------------------------------\u001b[0m",
      "\u001b[0;31mFileExistsError\u001b[0m                           Traceback (most recent call last)",
      "\u001b[0;32m<ipython-input-10-3c0c6a189347>\u001b[0m in \u001b[0;36m<module>\u001b[0;34m\u001b[0m\n\u001b[0;32m----> 1\u001b[0;31m \u001b[0mos\u001b[0m\u001b[0;34m.\u001b[0m\u001b[0mmkdir\u001b[0m\u001b[0;34m(\u001b[0m\u001b[0msave_directory\u001b[0m\u001b[0;34m)\u001b[0m\u001b[0;34m\u001b[0m\u001b[0m\n\u001b[0m",
      "\u001b[0;31mFileExistsError\u001b[0m: [Errno 17] File exists: '/home/haruyaishikawa/dev/action_mapping/notebook/images/meal time'"
     ]
    }
   ],
   "source": [
    "os.mkdir(save_directory)"
   ]
  },
  {
   "cell_type": "code",
   "execution_count": 36,
   "metadata": {},
   "outputs": [
    {
     "name": "stdout",
     "output_type": "stream",
     "text": [
      "0:  701\n",
      "1:  747\n",
      "2:  516\n",
      "3:  744\n",
      "4:  756\n",
      "5:  746\n",
      "6:  701\n",
      "7:  590\n"
     ]
    }
   ],
   "source": [
    "for clip in clips:\n",
    "    \n",
    "    all_files = manager.get_sorted_npz_files(clip)\n",
    "    \n",
    "    print(f'{clip}: ', len(all_files))\n",
    "\n",
    "    # initialize averages\n",
    "    pose_averages = {}\n",
    "    object_averages = {}\n",
    "    points = np.empty((3, 1))\n",
    "    points[:] = np.nan\n",
    "    H = mappingtool.single_histogram(points)\n",
    "    for name, value in eventmap_pose_dict.items():\n",
    "        pose_averages[name] = H.copy()\n",
    "    for name, value in eventmap_object_dict.items():\n",
    "        object_averages[name] = H.copy()\n",
    "   \n",
    "    \n",
    "    for file in all_files:\n",
    "        \n",
    "        filename = os.path.join(manager.get_clip_directory(clip), file)\n",
    "        \n",
    "        # get poses and masks\n",
    "        poses, masks = poses_masks_from_npz(filename)\n",
    "        \n",
    "        # process poses\n",
    "        if not(poses is None):\n",
    "            for i, pose in poses.items():\n",
    "                # for each people\n",
    "                for name, joints in eventmap_pose_dict.items():\n",
    "                    pose_points = process_body_part(pose, joints)\n",
    "                    pose_H = mappingtool.single_histogram(pose_points)\n",
    "                    \n",
    "                    pose_averages[name] += pose_H\n",
    "        \n",
    "        # process masks\n",
    "        if not(masks is None):       \n",
    "            for mask in masks:\n",
    "\n",
    "                object_id = int(mask.split('_')[0])\n",
    "\n",
    "                for object_name, object_ids in eventmap_object_dict.items():\n",
    "                    if object_id in object_ids:\n",
    "                        mask = masks[mask]\n",
    "\n",
    "                        mask_points = process_object(mask)\n",
    "                        mask_H = mappingtool.single_histogram(mask_points)\n",
    "\n",
    "                        object_averages[object_name] += mask_H\n",
    "    \n",
    "    # saving for each clips\n",
    "    colormap = 'plasma'\n",
    "    X, Y = np.meshgrid(mappingtool.xedges, mappingtool.yedges)\n",
    "    \n",
    "    # figure for pose\n",
    "    plt.ioff()\n",
    "    fig, axs = plt.subplots(1, len(eventmap_pose_dict), \n",
    "                            figsize=(20, 5), facecolor='w', edgecolor='k')\n",
    "    # fig.subplots_adjust(hspace = .5, wspace=.001)\n",
    "    axs = axs.ravel()\n",
    "    axs_index = 0\n",
    "    \n",
    "    for name, pose_H in pose_averages.items():\n",
    "        pose_H = mappingtool.normalize(pose_H)\n",
    "        axs[axs_index].pcolormesh(X, Y, pose_H, cmap=colormap, vmin=0.0, vmax=1.0)\n",
    "        axs[axs_index].set_title(name, fontsize=24)\n",
    "        axs_index += 1\n",
    "    \n",
    "    pose_plot = os.path.join(save_directory, f'{clip}_pose.png')\n",
    "    fig.savefig(pose_plot, dpi=fig.dpi)\n",
    "    plt.close()\n",
    "    \n",
    "    # figure for objects\n",
    "    rows = 3\n",
    "    fig, axs = plt.subplots(rows+1, len(eventmap_object_dict)//rows, \n",
    "                            figsize=(20, 20), facecolor='w', edgecolor='k')\n",
    "    # fig.subplots_adjust(hspace = .5, wspace=.001)\n",
    "    axs = axs.ravel()\n",
    "    axs_index = 0\n",
    "    \n",
    "    for name, mask_H in object_averages.items():\n",
    "        mask_H = mappingtool.normalize(mask_H)\n",
    "        axs[axs_index].pcolormesh(X, Y, mask_H, cmap=colormap, vmin=0.0, vmax=1.0)\n",
    "        axs[axs_index].set_title(name, fontsize=24)\n",
    "        axs_index += 1 \n",
    "    \n",
    "    mask_plot = os.path.join(save_directory, f'{clip}_objects.png')\n",
    "    fig.savefig(mask_plot, dpi=fig.dpi)\n",
    "    plt.close()"
   ]
  },
  {
   "cell_type": "code",
   "execution_count": null,
   "metadata": {},
   "outputs": [],
   "source": []
  }
 ],
 "metadata": {
  "kernelspec": {
   "display_name": "Python 3",
   "language": "python",
   "name": "python3"
  },
  "language_info": {
   "codemirror_mode": {
    "name": "ipython",
    "version": 3
   },
   "file_extension": ".py",
   "mimetype": "text/x-python",
   "name": "python",
   "nbconvert_exporter": "python",
   "pygments_lexer": "ipython3",
   "version": "3.6.5"
  }
 },
 "nbformat": 4,
 "nbformat_minor": 2
}
